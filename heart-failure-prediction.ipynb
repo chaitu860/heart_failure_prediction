{
  "nbformat": 4,
  "nbformat_minor": 0,
  "metadata": {
    "kernelspec": {
      "language": "python",
      "display_name": "Python 3",
      "name": "python3"
    },
    "language_info": {
      "name": "python",
      "version": "3.7.10",
      "mimetype": "text/x-python",
      "codemirror_mode": {
        "name": "ipython",
        "version": 3
      },
      "pygments_lexer": "ipython3",
      "nbconvert_exporter": "python",
      "file_extension": ".py"
    },
    "colab": {
      "name": "heart-failure-prediction.ipynb",
      "provenance": []
    }
  },
  "cells": [
    {
      "cell_type": "markdown",
      "metadata": {
        "id": "w50Lw4DOLwFb"
      },
      "source": [
        "Import Dataset"
      ]
    },
    {
      "cell_type": "code",
      "metadata": {
        "execution": {
          "iopub.status.busy": "2021-10-10T07:38:42.147866Z",
          "iopub.execute_input": "2021-10-10T07:38:42.148087Z",
          "iopub.status.idle": "2021-10-10T07:38:42.158818Z",
          "shell.execute_reply.started": "2021-10-10T07:38:42.148063Z",
          "shell.execute_reply": "2021-10-10T07:38:42.158034Z"
        },
        "trusted": true,
        "id": "1s0ATUyELwFg"
      },
      "source": [
        "import pandas as pd\n",
        "import numpy as np\n",
        "import seaborn as sns"
      ],
      "execution_count": 9,
      "outputs": []
    },
    {
      "cell_type": "markdown",
      "metadata": {
        "id": "3w8R-S20LwFk"
      },
      "source": [
        ""
      ]
    },
    {
      "cell_type": "code",
      "metadata": {
        "execution": {
          "iopub.status.busy": "2021-10-10T07:38:42.159709Z",
          "iopub.execute_input": "2021-10-10T07:38:42.160298Z",
          "iopub.status.idle": "2021-10-10T07:38:42.189276Z",
          "shell.execute_reply.started": "2021-10-10T07:38:42.160267Z",
          "shell.execute_reply": "2021-10-10T07:38:42.188438Z"
        },
        "trusted": true,
        "id": "dxaBA8gNLwFl",
        "outputId": "7da51c7e-b2a1-4095-f1af-597aba9a41ca",
        "colab": {
          "base_uri": "https://localhost:8080/",
          "height": 203
        }
      },
      "source": [
        "df=pd.read_csv(\"/content/drive/MyDrive/machine learning/heart.csv\")\n",
        "df.head()"
      ],
      "execution_count": 10,
      "outputs": [
        {
          "output_type": "execute_result",
          "data": {
            "text/html": [
              "<div>\n",
              "<style scoped>\n",
              "    .dataframe tbody tr th:only-of-type {\n",
              "        vertical-align: middle;\n",
              "    }\n",
              "\n",
              "    .dataframe tbody tr th {\n",
              "        vertical-align: top;\n",
              "    }\n",
              "\n",
              "    .dataframe thead th {\n",
              "        text-align: right;\n",
              "    }\n",
              "</style>\n",
              "<table border=\"1\" class=\"dataframe\">\n",
              "  <thead>\n",
              "    <tr style=\"text-align: right;\">\n",
              "      <th></th>\n",
              "      <th>Age</th>\n",
              "      <th>Sex</th>\n",
              "      <th>ChestPainType</th>\n",
              "      <th>RestingBP</th>\n",
              "      <th>Cholesterol</th>\n",
              "      <th>FastingBS</th>\n",
              "      <th>RestingECG</th>\n",
              "      <th>MaxHR</th>\n",
              "      <th>ExerciseAngina</th>\n",
              "      <th>Oldpeak</th>\n",
              "      <th>ST_Slope</th>\n",
              "      <th>HeartDisease</th>\n",
              "    </tr>\n",
              "  </thead>\n",
              "  <tbody>\n",
              "    <tr>\n",
              "      <th>0</th>\n",
              "      <td>40</td>\n",
              "      <td>M</td>\n",
              "      <td>ATA</td>\n",
              "      <td>140</td>\n",
              "      <td>289</td>\n",
              "      <td>0</td>\n",
              "      <td>Normal</td>\n",
              "      <td>172</td>\n",
              "      <td>N</td>\n",
              "      <td>0.0</td>\n",
              "      <td>Up</td>\n",
              "      <td>0</td>\n",
              "    </tr>\n",
              "    <tr>\n",
              "      <th>1</th>\n",
              "      <td>49</td>\n",
              "      <td>F</td>\n",
              "      <td>NAP</td>\n",
              "      <td>160</td>\n",
              "      <td>180</td>\n",
              "      <td>0</td>\n",
              "      <td>Normal</td>\n",
              "      <td>156</td>\n",
              "      <td>N</td>\n",
              "      <td>1.0</td>\n",
              "      <td>Flat</td>\n",
              "      <td>1</td>\n",
              "    </tr>\n",
              "    <tr>\n",
              "      <th>2</th>\n",
              "      <td>37</td>\n",
              "      <td>M</td>\n",
              "      <td>ATA</td>\n",
              "      <td>130</td>\n",
              "      <td>283</td>\n",
              "      <td>0</td>\n",
              "      <td>ST</td>\n",
              "      <td>98</td>\n",
              "      <td>N</td>\n",
              "      <td>0.0</td>\n",
              "      <td>Up</td>\n",
              "      <td>0</td>\n",
              "    </tr>\n",
              "    <tr>\n",
              "      <th>3</th>\n",
              "      <td>48</td>\n",
              "      <td>F</td>\n",
              "      <td>ASY</td>\n",
              "      <td>138</td>\n",
              "      <td>214</td>\n",
              "      <td>0</td>\n",
              "      <td>Normal</td>\n",
              "      <td>108</td>\n",
              "      <td>Y</td>\n",
              "      <td>1.5</td>\n",
              "      <td>Flat</td>\n",
              "      <td>1</td>\n",
              "    </tr>\n",
              "    <tr>\n",
              "      <th>4</th>\n",
              "      <td>54</td>\n",
              "      <td>M</td>\n",
              "      <td>NAP</td>\n",
              "      <td>150</td>\n",
              "      <td>195</td>\n",
              "      <td>0</td>\n",
              "      <td>Normal</td>\n",
              "      <td>122</td>\n",
              "      <td>N</td>\n",
              "      <td>0.0</td>\n",
              "      <td>Up</td>\n",
              "      <td>0</td>\n",
              "    </tr>\n",
              "  </tbody>\n",
              "</table>\n",
              "</div>"
            ],
            "text/plain": [
              "   Age Sex ChestPainType  ...  Oldpeak  ST_Slope  HeartDisease\n",
              "0   40   M           ATA  ...      0.0        Up             0\n",
              "1   49   F           NAP  ...      1.0      Flat             1\n",
              "2   37   M           ATA  ...      0.0        Up             0\n",
              "3   48   F           ASY  ...      1.5      Flat             1\n",
              "4   54   M           NAP  ...      0.0        Up             0\n",
              "\n",
              "[5 rows x 12 columns]"
            ]
          },
          "metadata": {},
          "execution_count": 10
        }
      ]
    },
    {
      "cell_type": "markdown",
      "metadata": {
        "id": "rUexg8EeLwFo"
      },
      "source": [
        "Next step is to understand the dataset"
      ]
    },
    {
      "cell_type": "code",
      "metadata": {
        "execution": {
          "iopub.status.busy": "2021-10-10T07:38:42.190278Z",
          "iopub.execute_input": "2021-10-10T07:38:42.190503Z",
          "iopub.status.idle": "2021-10-10T07:38:42.203660Z",
          "shell.execute_reply.started": "2021-10-10T07:38:42.190479Z",
          "shell.execute_reply": "2021-10-10T07:38:42.202678Z"
        },
        "trusted": true,
        "id": "xezfTPgnLwFq",
        "outputId": "9a8dde3a-e7f2-422c-d9c1-d3763e8b5cf6",
        "colab": {
          "base_uri": "https://localhost:8080/"
        }
      },
      "source": [
        "df.info()"
      ],
      "execution_count": 11,
      "outputs": [
        {
          "output_type": "stream",
          "name": "stdout",
          "text": [
            "<class 'pandas.core.frame.DataFrame'>\n",
            "RangeIndex: 918 entries, 0 to 917\n",
            "Data columns (total 12 columns):\n",
            " #   Column          Non-Null Count  Dtype  \n",
            "---  ------          --------------  -----  \n",
            " 0   Age             918 non-null    int64  \n",
            " 1   Sex             918 non-null    object \n",
            " 2   ChestPainType   918 non-null    object \n",
            " 3   RestingBP       918 non-null    int64  \n",
            " 4   Cholesterol     918 non-null    int64  \n",
            " 5   FastingBS       918 non-null    int64  \n",
            " 6   RestingECG      918 non-null    object \n",
            " 7   MaxHR           918 non-null    int64  \n",
            " 8   ExerciseAngina  918 non-null    object \n",
            " 9   Oldpeak         918 non-null    float64\n",
            " 10  ST_Slope        918 non-null    object \n",
            " 11  HeartDisease    918 non-null    int64  \n",
            "dtypes: float64(1), int64(6), object(5)\n",
            "memory usage: 86.2+ KB\n"
          ]
        }
      ]
    },
    {
      "cell_type": "code",
      "metadata": {
        "execution": {
          "iopub.status.busy": "2021-10-10T07:38:42.205786Z",
          "iopub.execute_input": "2021-10-10T07:38:42.206019Z",
          "iopub.status.idle": "2021-10-10T07:38:42.216316Z",
          "shell.execute_reply.started": "2021-10-10T07:38:42.205995Z",
          "shell.execute_reply": "2021-10-10T07:38:42.215422Z"
        },
        "trusted": true,
        "id": "QOJjNfwQLwFt",
        "outputId": "a7ae496f-9b6a-4079-dbee-d219b9727f7d",
        "colab": {
          "base_uri": "https://localhost:8080/"
        }
      },
      "source": [
        "df.columns"
      ],
      "execution_count": 12,
      "outputs": [
        {
          "output_type": "execute_result",
          "data": {
            "text/plain": [
              "Index(['Age', 'Sex', 'ChestPainType', 'RestingBP', 'Cholesterol', 'FastingBS',\n",
              "       'RestingECG', 'MaxHR', 'ExerciseAngina', 'Oldpeak', 'ST_Slope',\n",
              "       'HeartDisease'],\n",
              "      dtype='object')"
            ]
          },
          "metadata": {},
          "execution_count": 12
        }
      ]
    },
    {
      "cell_type": "code",
      "metadata": {
        "execution": {
          "iopub.status.busy": "2021-10-10T07:38:42.217549Z",
          "iopub.execute_input": "2021-10-10T07:38:42.217775Z",
          "iopub.status.idle": "2021-10-10T07:38:42.229161Z",
          "shell.execute_reply.started": "2021-10-10T07:38:42.217749Z",
          "shell.execute_reply": "2021-10-10T07:38:42.228357Z"
        },
        "trusted": true,
        "id": "7L4XGaQBLwFv",
        "outputId": "fb1f03d6-6d53-4e81-fc81-a8ee43e4d476",
        "colab": {
          "base_uri": "https://localhost:8080/"
        }
      },
      "source": [
        "df.shape"
      ],
      "execution_count": 13,
      "outputs": [
        {
          "output_type": "execute_result",
          "data": {
            "text/plain": [
              "(918, 12)"
            ]
          },
          "metadata": {},
          "execution_count": 13
        }
      ]
    },
    {
      "cell_type": "code",
      "metadata": {
        "execution": {
          "iopub.status.busy": "2021-10-10T07:38:42.230532Z",
          "iopub.execute_input": "2021-10-10T07:38:42.230827Z",
          "iopub.status.idle": "2021-10-10T07:38:42.250547Z",
          "shell.execute_reply.started": "2021-10-10T07:38:42.230790Z",
          "shell.execute_reply": "2021-10-10T07:38:42.249684Z"
        },
        "trusted": true,
        "id": "qn1Nv1FmLwF0",
        "outputId": "7b515c96-07a7-45ee-9c35-0c3cfe1e625a",
        "colab": {
          "base_uri": "https://localhost:8080/",
          "height": 203
        }
      },
      "source": [
        "df.sample(5)"
      ],
      "execution_count": 14,
      "outputs": [
        {
          "output_type": "execute_result",
          "data": {
            "text/html": [
              "<div>\n",
              "<style scoped>\n",
              "    .dataframe tbody tr th:only-of-type {\n",
              "        vertical-align: middle;\n",
              "    }\n",
              "\n",
              "    .dataframe tbody tr th {\n",
              "        vertical-align: top;\n",
              "    }\n",
              "\n",
              "    .dataframe thead th {\n",
              "        text-align: right;\n",
              "    }\n",
              "</style>\n",
              "<table border=\"1\" class=\"dataframe\">\n",
              "  <thead>\n",
              "    <tr style=\"text-align: right;\">\n",
              "      <th></th>\n",
              "      <th>Age</th>\n",
              "      <th>Sex</th>\n",
              "      <th>ChestPainType</th>\n",
              "      <th>RestingBP</th>\n",
              "      <th>Cholesterol</th>\n",
              "      <th>FastingBS</th>\n",
              "      <th>RestingECG</th>\n",
              "      <th>MaxHR</th>\n",
              "      <th>ExerciseAngina</th>\n",
              "      <th>Oldpeak</th>\n",
              "      <th>ST_Slope</th>\n",
              "      <th>HeartDisease</th>\n",
              "    </tr>\n",
              "  </thead>\n",
              "  <tbody>\n",
              "    <tr>\n",
              "      <th>430</th>\n",
              "      <td>57</td>\n",
              "      <td>M</td>\n",
              "      <td>ASY</td>\n",
              "      <td>128</td>\n",
              "      <td>0</td>\n",
              "      <td>1</td>\n",
              "      <td>ST</td>\n",
              "      <td>148</td>\n",
              "      <td>Y</td>\n",
              "      <td>1.0</td>\n",
              "      <td>Flat</td>\n",
              "      <td>1</td>\n",
              "    </tr>\n",
              "    <tr>\n",
              "      <th>718</th>\n",
              "      <td>57</td>\n",
              "      <td>M</td>\n",
              "      <td>ASY</td>\n",
              "      <td>165</td>\n",
              "      <td>289</td>\n",
              "      <td>1</td>\n",
              "      <td>LVH</td>\n",
              "      <td>124</td>\n",
              "      <td>N</td>\n",
              "      <td>1.0</td>\n",
              "      <td>Flat</td>\n",
              "      <td>1</td>\n",
              "    </tr>\n",
              "    <tr>\n",
              "      <th>381</th>\n",
              "      <td>50</td>\n",
              "      <td>M</td>\n",
              "      <td>ASY</td>\n",
              "      <td>115</td>\n",
              "      <td>0</td>\n",
              "      <td>0</td>\n",
              "      <td>Normal</td>\n",
              "      <td>120</td>\n",
              "      <td>Y</td>\n",
              "      <td>0.5</td>\n",
              "      <td>Flat</td>\n",
              "      <td>1</td>\n",
              "    </tr>\n",
              "    <tr>\n",
              "      <th>235</th>\n",
              "      <td>39</td>\n",
              "      <td>M</td>\n",
              "      <td>ATA</td>\n",
              "      <td>120</td>\n",
              "      <td>200</td>\n",
              "      <td>0</td>\n",
              "      <td>Normal</td>\n",
              "      <td>160</td>\n",
              "      <td>Y</td>\n",
              "      <td>1.0</td>\n",
              "      <td>Flat</td>\n",
              "      <td>0</td>\n",
              "    </tr>\n",
              "    <tr>\n",
              "      <th>197</th>\n",
              "      <td>42</td>\n",
              "      <td>M</td>\n",
              "      <td>ATA</td>\n",
              "      <td>150</td>\n",
              "      <td>268</td>\n",
              "      <td>0</td>\n",
              "      <td>Normal</td>\n",
              "      <td>136</td>\n",
              "      <td>N</td>\n",
              "      <td>0.0</td>\n",
              "      <td>Up</td>\n",
              "      <td>0</td>\n",
              "    </tr>\n",
              "  </tbody>\n",
              "</table>\n",
              "</div>"
            ],
            "text/plain": [
              "     Age Sex ChestPainType  ...  Oldpeak  ST_Slope  HeartDisease\n",
              "430   57   M           ASY  ...      1.0      Flat             1\n",
              "718   57   M           ASY  ...      1.0      Flat             1\n",
              "381   50   M           ASY  ...      0.5      Flat             1\n",
              "235   39   M           ATA  ...      1.0      Flat             0\n",
              "197   42   M           ATA  ...      0.0        Up             0\n",
              "\n",
              "[5 rows x 12 columns]"
            ]
          },
          "metadata": {},
          "execution_count": 14
        }
      ]
    },
    {
      "cell_type": "code",
      "metadata": {
        "execution": {
          "iopub.status.busy": "2021-10-10T07:38:42.252228Z",
          "iopub.execute_input": "2021-10-10T07:38:42.252545Z",
          "iopub.status.idle": "2021-10-10T07:38:42.267904Z",
          "shell.execute_reply.started": "2021-10-10T07:38:42.252506Z",
          "shell.execute_reply": "2021-10-10T07:38:42.267091Z"
        },
        "trusted": true,
        "id": "QN6_fd4hLwF3",
        "outputId": "b413a536-82af-419b-f5f1-e596a3cdd095",
        "colab": {
          "base_uri": "https://localhost:8080/"
        }
      },
      "source": [
        "df.isnull().sum()"
      ],
      "execution_count": 15,
      "outputs": [
        {
          "output_type": "execute_result",
          "data": {
            "text/plain": [
              "Age               0\n",
              "Sex               0\n",
              "ChestPainType     0\n",
              "RestingBP         0\n",
              "Cholesterol       0\n",
              "FastingBS         0\n",
              "RestingECG        0\n",
              "MaxHR             0\n",
              "ExerciseAngina    0\n",
              "Oldpeak           0\n",
              "ST_Slope          0\n",
              "HeartDisease      0\n",
              "dtype: int64"
            ]
          },
          "metadata": {},
          "execution_count": 15
        }
      ]
    },
    {
      "cell_type": "code",
      "metadata": {
        "execution": {
          "iopub.status.busy": "2021-10-10T07:38:42.268967Z",
          "iopub.execute_input": "2021-10-10T07:38:42.269257Z",
          "iopub.status.idle": "2021-10-10T07:38:42.278053Z",
          "shell.execute_reply.started": "2021-10-10T07:38:42.269221Z",
          "shell.execute_reply": "2021-10-10T07:38:42.277220Z"
        },
        "trusted": true,
        "id": "wJdGTzKlLwF6",
        "outputId": "f84fda42-2aad-4f8a-cead-a223c7db5be3",
        "colab": {
          "base_uri": "https://localhost:8080/"
        }
      },
      "source": [
        "df['FastingBS'].value_counts()"
      ],
      "execution_count": 16,
      "outputs": [
        {
          "output_type": "execute_result",
          "data": {
            "text/plain": [
              "0    704\n",
              "1    214\n",
              "Name: FastingBS, dtype: int64"
            ]
          },
          "metadata": {},
          "execution_count": 16
        }
      ]
    },
    {
      "cell_type": "code",
      "metadata": {
        "execution": {
          "iopub.status.busy": "2021-10-10T07:38:42.279080Z",
          "iopub.execute_input": "2021-10-10T07:38:42.279362Z",
          "iopub.status.idle": "2021-10-10T07:38:42.471020Z",
          "shell.execute_reply.started": "2021-10-10T07:38:42.279325Z",
          "shell.execute_reply": "2021-10-10T07:38:42.470178Z"
        },
        "trusted": true,
        "id": "EyTEwMV4LwF8",
        "outputId": "60f9a1a3-fea6-4ccd-8e14-e7f2f7fa9439",
        "colab": {
          "base_uri": "https://localhost:8080/",
          "height": 296
        }
      },
      "source": [
        "sns.countplot(x=\"FastingBS\",data=df)"
      ],
      "execution_count": 17,
      "outputs": [
        {
          "output_type": "execute_result",
          "data": {
            "text/plain": [
              "<matplotlib.axes._subplots.AxesSubplot at 0x7efe57189610>"
            ]
          },
          "metadata": {},
          "execution_count": 17
        },
        {
          "output_type": "display_data",
          "data": {
            "image/png": "[encoded data removed]",
            "text/plain": [
              "<Figure size 432x288 with 1 Axes>"
            ]
          },
          "metadata": {
            "needs_background": "light"
          }
        }
      ]
    },
    {
      "cell_type": "code",
      "metadata": {
        "execution": {
          "iopub.status.busy": "2021-10-10T07:38:42.472266Z",
          "iopub.execute_input": "2021-10-10T07:38:42.473915Z",
          "iopub.status.idle": "2021-10-10T07:38:42.480327Z",
          "shell.execute_reply.started": "2021-10-10T07:38:42.473883Z",
          "shell.execute_reply": "2021-10-10T07:38:42.479800Z"
        },
        "trusted": true,
        "id": "InglpmaLLwF-",
        "outputId": "844b46e9-091a-43ae-c9b3-f22f3cdbb4cf",
        "colab": {
          "base_uri": "https://localhost:8080/"
        }
      },
      "source": [
        "df['HeartDisease'].value_counts()"
      ],
      "execution_count": 18,
      "outputs": [
        {
          "output_type": "execute_result",
          "data": {
            "text/plain": [
              "1    508\n",
              "0    410\n",
              "Name: HeartDisease, dtype: int64"
            ]
          },
          "metadata": {},
          "execution_count": 18
        }
      ]
    },
    {
      "cell_type": "code",
      "metadata": {
        "execution": {
          "iopub.status.busy": "2021-10-10T07:38:42.482644Z",
          "iopub.execute_input": "2021-10-10T07:38:42.483263Z",
          "iopub.status.idle": "2021-10-10T07:38:42.495281Z",
          "shell.execute_reply.started": "2021-10-10T07:38:42.483232Z",
          "shell.execute_reply": "2021-10-10T07:38:42.494542Z"
        },
        "trusted": true,
        "id": "NMHua7SxLwF_",
        "outputId": "e3b3c804-a61f-48a1-f63b-e2448619cc18",
        "colab": {
          "base_uri": "https://localhost:8080/"
        }
      },
      "source": [
        "df['ChestPainType'].value_counts()"
      ],
      "execution_count": 19,
      "outputs": [
        {
          "output_type": "execute_result",
          "data": {
            "text/plain": [
              "ASY    496\n",
              "NAP    203\n",
              "ATA    173\n",
              "TA      46\n",
              "Name: ChestPainType, dtype: int64"
            ]
          },
          "metadata": {},
          "execution_count": 19
        }
      ]
    },
    {
      "cell_type": "code",
      "metadata": {
        "execution": {
          "iopub.status.busy": "2021-10-10T07:38:42.496545Z",
          "iopub.execute_input": "2021-10-10T07:38:42.496767Z",
          "iopub.status.idle": "2021-10-10T07:38:42.691439Z",
          "shell.execute_reply.started": "2021-10-10T07:38:42.496742Z",
          "shell.execute_reply": "2021-10-10T07:38:42.690562Z"
        },
        "trusted": true,
        "id": "XARLKdrOLwGB",
        "outputId": "b226ebf4-0133-4178-b002-1e04c132eb0b",
        "colab": {
          "base_uri": "https://localhost:8080/",
          "height": 296
        }
      },
      "source": [
        "sns.countplot(x='ChestPainType',data=df)"
      ],
      "execution_count": 20,
      "outputs": [
        {
          "output_type": "execute_result",
          "data": {
            "text/plain": [
              "<matplotlib.axes._subplots.AxesSubplot at 0x7efe57095910>"
            ]
          },
          "metadata": {},
          "execution_count": 20
        },
        {
          "output_type": "display_data",
          "data": {
            "image/png": "[encoded data removed]",
            "text/plain": [
              "<Figure size 432x288 with 1 Axes>"
            ]
          },
          "metadata": {
            "needs_background": "light"
          }
        }
      ]
    },
    {
      "cell_type": "code",
      "metadata": {
        "execution": {
          "iopub.status.busy": "2021-10-10T07:38:42.692528Z",
          "iopub.execute_input": "2021-10-10T07:38:42.694502Z",
          "iopub.status.idle": "2021-10-10T07:38:42.701896Z",
          "shell.execute_reply.started": "2021-10-10T07:38:42.694436Z",
          "shell.execute_reply": "2021-10-10T07:38:42.700961Z"
        },
        "trusted": true,
        "id": "rwMX-bG5LwGC",
        "outputId": "a2a98292-8997-475b-c2a4-4ef8cf0cc466",
        "colab": {
          "base_uri": "https://localhost:8080/"
        }
      },
      "source": [
        "df['RestingECG'].value_counts()"
      ],
      "execution_count": 21,
      "outputs": [
        {
          "output_type": "execute_result",
          "data": {
            "text/plain": [
              "Normal    552\n",
              "LVH       188\n",
              "ST        178\n",
              "Name: RestingECG, dtype: int64"
            ]
          },
          "metadata": {},
          "execution_count": 21
        }
      ]
    },
    {
      "cell_type": "code",
      "metadata": {
        "execution": {
          "iopub.status.busy": "2021-10-10T07:38:42.703197Z",
          "iopub.execute_input": "2021-10-10T07:38:42.703492Z",
          "iopub.status.idle": "2021-10-10T07:38:42.897806Z",
          "shell.execute_reply.started": "2021-10-10T07:38:42.703442Z",
          "shell.execute_reply": "2021-10-10T07:38:42.896986Z"
        },
        "trusted": true,
        "id": "3yn1QIPyLwGG",
        "outputId": "9a673d29-584f-4955-e7f6-cb0f93ecfed3",
        "colab": {
          "base_uri": "https://localhost:8080/",
          "height": 296
        }
      },
      "source": [
        "sns.countplot(x='RestingECG',data=df)"
      ],
      "execution_count": 22,
      "outputs": [
        {
          "output_type": "execute_result",
          "data": {
            "text/plain": [
              "<matplotlib.axes._subplots.AxesSubplot at 0x7efe56be5ed0>"
            ]
          },
          "metadata": {},
          "execution_count": 22
        },
        {
          "output_type": "display_data",
          "data": {
            "image/png": "[encoded data removed]",
            "text/plain": [
              "<Figure size 432x288 with 1 Axes>"
            ]
          },
          "metadata": {
            "needs_background": "light"
          }
        }
      ]
    },
    {
      "cell_type": "markdown",
      "metadata": {
        "id": "HlTicQbKLwGI"
      },
      "source": [
        "There are no null values present in this dataset. Lets check if there are any miscategeorized values."
      ]
    },
    {
      "cell_type": "markdown",
      "metadata": {
        "id": "VUzGz8YdLwGK"
      },
      "source": [
        "Lets encode the required data"
      ]
    },
    {
      "cell_type": "code",
      "metadata": {
        "execution": {
          "iopub.status.busy": "2021-10-10T07:38:42.898893Z",
          "iopub.execute_input": "2021-10-10T07:38:42.899097Z",
          "iopub.status.idle": "2021-10-10T07:38:42.905421Z",
          "shell.execute_reply.started": "2021-10-10T07:38:42.899072Z",
          "shell.execute_reply": "2021-10-10T07:38:42.904538Z"
        },
        "trusted": true,
        "id": "I9gz1VA0LwGM",
        "outputId": "7b5e5334-f53b-4a09-e32e-f5eea97a6e42",
        "colab": {
          "base_uri": "https://localhost:8080/"
        }
      },
      "source": [
        "df.columns"
      ],
      "execution_count": 23,
      "outputs": [
        {
          "output_type": "execute_result",
          "data": {
            "text/plain": [
              "Index(['Age', 'Sex', 'ChestPainType', 'RestingBP', 'Cholesterol', 'FastingBS',\n",
              "       'RestingECG', 'MaxHR', 'ExerciseAngina', 'Oldpeak', 'ST_Slope',\n",
              "       'HeartDisease'],\n",
              "      dtype='object')"
            ]
          },
          "metadata": {},
          "execution_count": 23
        }
      ]
    },
    {
      "cell_type": "code",
      "metadata": {
        "execution": {
          "iopub.status.busy": "2021-10-10T07:38:42.906785Z",
          "iopub.execute_input": "2021-10-10T07:38:42.907051Z",
          "iopub.status.idle": "2021-10-10T07:38:42.934344Z",
          "shell.execute_reply.started": "2021-10-10T07:38:42.907025Z",
          "shell.execute_reply": "2021-10-10T07:38:42.933575Z"
        },
        "trusted": true,
        "id": "bcba01-nLwGN"
      },
      "source": [
        "df1=df\n",
        "categorical_columns = ['Sex', 'ChestPainType', \n",
        "       'RestingECG',  'ExerciseAngina', 'ST_Slope',\n",
        "      ]\n",
        "\n",
        "for column in categorical_columns:\n",
        "    cat = pd.get_dummies(df[column], prefix=column)\n",
        "\n",
        "    df1 = pd.merge(\n",
        "        left=df1,\n",
        "        right=cat,\n",
        "        left_index=True,\n",
        "        right_index=True,\n",
        "    )\n",
        "\n",
        "    df1 = df1.drop(columns=column)\n",
        "\n"
      ],
      "execution_count": 24,
      "outputs": []
    },
    {
      "cell_type": "code",
      "metadata": {
        "execution": {
          "iopub.status.busy": "2021-10-10T07:38:42.935544Z",
          "iopub.execute_input": "2021-10-10T07:38:42.935777Z",
          "iopub.status.idle": "2021-10-10T07:38:42.958066Z",
          "shell.execute_reply.started": "2021-10-10T07:38:42.935753Z",
          "shell.execute_reply": "2021-10-10T07:38:42.957539Z"
        },
        "trusted": true,
        "id": "Ml9awfR2LwGO",
        "outputId": "d1b08c50-636c-44c2-fcb6-98a3b14375d2",
        "colab": {
          "base_uri": "https://localhost:8080/",
          "height": 437
        }
      },
      "source": [
        "df1"
      ],
      "execution_count": 25,
      "outputs": [
        {
          "output_type": "execute_result",
          "data": {
            "text/html": [
              "<div>\n",
              "<style scoped>\n",
              "    .dataframe tbody tr th:only-of-type {\n",
              "        vertical-align: middle;\n",
              "    }\n",
              "\n",
              "    .dataframe tbody tr th {\n",
              "        vertical-align: top;\n",
              "    }\n",
              "\n",
              "    .dataframe thead th {\n",
              "        text-align: right;\n",
              "    }\n",
              "</style>\n",
              "<table border=\"1\" class=\"dataframe\">\n",
              "  <thead>\n",
              "    <tr style=\"text-align: right;\">\n",
              "      <th></th>\n",
              "      <th>Age</th>\n",
              "      <th>RestingBP</th>\n",
              "      <th>Cholesterol</th>\n",
              "      <th>FastingBS</th>\n",
              "      <th>MaxHR</th>\n",
              "      <th>Oldpeak</th>\n",
              "      <th>HeartDisease</th>\n",
              "      <th>Sex_F</th>\n",
              "      <th>Sex_M</th>\n",
              "      <th>ChestPainType_ASY</th>\n",
              "      <th>ChestPainType_ATA</th>\n",
              "      <th>ChestPainType_NAP</th>\n",
              "      <th>ChestPainType_TA</th>\n",
              "      <th>RestingECG_LVH</th>\n",
              "      <th>RestingECG_Normal</th>\n",
              "      <th>RestingECG_ST</th>\n",
              "      <th>ExerciseAngina_N</th>\n",
              "      <th>ExerciseAngina_Y</th>\n",
              "      <th>ST_Slope_Down</th>\n",
              "      <th>ST_Slope_Flat</th>\n",
              "      <th>ST_Slope_Up</th>\n",
              "    </tr>\n",
              "  </thead>\n",
              "  <tbody>\n",
              "    <tr>\n",
              "      <th>0</th>\n",
              "      <td>40</td>\n",
              "      <td>140</td>\n",
              "      <td>289</td>\n",
              "      <td>0</td>\n",
              "      <td>172</td>\n",
              "      <td>0.0</td>\n",
              "      <td>0</td>\n",
              "      <td>0</td>\n",
              "      <td>1</td>\n",
              "      <td>0</td>\n",
              "      <td>1</td>\n",
              "      <td>0</td>\n",
              "      <td>0</td>\n",
              "      <td>0</td>\n",
              "      <td>1</td>\n",
              "      <td>0</td>\n",
              "      <td>1</td>\n",
              "      <td>0</td>\n",
              "      <td>0</td>\n",
              "      <td>0</td>\n",
              "      <td>1</td>\n",
              "    </tr>\n",
              "    <tr>\n",
              "      <th>1</th>\n",
              "      <td>49</td>\n",
              "      <td>160</td>\n",
              "      <td>180</td>\n",
              "      <td>0</td>\n",
              "      <td>156</td>\n",
              "      <td>1.0</td>\n",
              "      <td>1</td>\n",
              "      <td>1</td>\n",
              "      <td>0</td>\n",
              "      <td>0</td>\n",
              "      <td>0</td>\n",
              "      <td>1</td>\n",
              "      <td>0</td>\n",
              "      <td>0</td>\n",
              "      <td>1</td>\n",
              "      <td>0</td>\n",
              "      <td>1</td>\n",
              "      <td>0</td>\n",
              "      <td>0</td>\n",
              "      <td>1</td>\n",
              "      <td>0</td>\n",
              "    </tr>\n",
              "    <tr>\n",
              "      <th>2</th>\n",
              "      <td>37</td>\n",
              "      <td>130</td>\n",
              "      <td>283</td>\n",
              "      <td>0</td>\n",
              "      <td>98</td>\n",
              "      <td>0.0</td>\n",
              "      <td>0</td>\n",
              "      <td>0</td>\n",
              "      <td>1</td>\n",
              "      <td>0</td>\n",
              "      <td>1</td>\n",
              "      <td>0</td>\n",
              "      <td>0</td>\n",
              "      <td>0</td>\n",
              "      <td>0</td>\n",
              "      <td>1</td>\n",
              "      <td>1</td>\n",
              "      <td>0</td>\n",
              "      <td>0</td>\n",
              "      <td>0</td>\n",
              "      <td>1</td>\n",
              "    </tr>\n",
              "    <tr>\n",
              "      <th>3</th>\n",
              "      <td>48</td>\n",
              "      <td>138</td>\n",
              "      <td>214</td>\n",
              "      <td>0</td>\n",
              "      <td>108</td>\n",
              "      <td>1.5</td>\n",
              "      <td>1</td>\n",
              "      <td>1</td>\n",
              "      <td>0</td>\n",
              "      <td>1</td>\n",
              "      <td>0</td>\n",
              "      <td>0</td>\n",
              "      <td>0</td>\n",
              "      <td>0</td>\n",
              "      <td>1</td>\n",
              "      <td>0</td>\n",
              "      <td>0</td>\n",
              "      <td>1</td>\n",
              "      <td>0</td>\n",
              "      <td>1</td>\n",
              "      <td>0</td>\n",
              "    </tr>\n",
              "    <tr>\n",
              "      <th>4</th>\n",
              "      <td>54</td>\n",
              "      <td>150</td>\n",
              "      <td>195</td>\n",
              "      <td>0</td>\n",
              "      <td>122</td>\n",
              "      <td>0.0</td>\n",
              "      <td>0</td>\n",
              "      <td>0</td>\n",
              "      <td>1</td>\n",
              "      <td>0</td>\n",
              "      <td>0</td>\n",
              "      <td>1</td>\n",
              "      <td>0</td>\n",
              "      <td>0</td>\n",
              "      <td>1</td>\n",
              "      <td>0</td>\n",
              "      <td>1</td>\n",
              "      <td>0</td>\n",
              "      <td>0</td>\n",
              "      <td>0</td>\n",
              "      <td>1</td>\n",
              "    </tr>\n",
              "    <tr>\n",
              "      <th>...</th>\n",
              "      <td>...</td>\n",
              "      <td>...</td>\n",
              "      <td>...</td>\n",
              "      <td>...</td>\n",
              "      <td>...</td>\n",
              "      <td>...</td>\n",
              "      <td>...</td>\n",
              "      <td>...</td>\n",
              "      <td>...</td>\n",
              "      <td>...</td>\n",
              "      <td>...</td>\n",
              "      <td>...</td>\n",
              "      <td>...</td>\n",
              "      <td>...</td>\n",
              "      <td>...</td>\n",
              "      <td>...</td>\n",
              "      <td>...</td>\n",
              "      <td>...</td>\n",
              "      <td>...</td>\n",
              "      <td>...</td>\n",
              "      <td>...</td>\n",
              "    </tr>\n",
              "    <tr>\n",
              "      <th>913</th>\n",
              "      <td>45</td>\n",
              "      <td>110</td>\n",
              "      <td>264</td>\n",
              "      <td>0</td>\n",
              "      <td>132</td>\n",
              "      <td>1.2</td>\n",
              "      <td>1</td>\n",
              "      <td>0</td>\n",
              "      <td>1</td>\n",
              "      <td>0</td>\n",
              "      <td>0</td>\n",
              "      <td>0</td>\n",
              "      <td>1</td>\n",
              "      <td>0</td>\n",
              "      <td>1</td>\n",
              "      <td>0</td>\n",
              "      <td>1</td>\n",
              "      <td>0</td>\n",
              "      <td>0</td>\n",
              "      <td>1</td>\n",
              "      <td>0</td>\n",
              "    </tr>\n",
              "    <tr>\n",
              "      <th>914</th>\n",
              "      <td>68</td>\n",
              "      <td>144</td>\n",
              "      <td>193</td>\n",
              "      <td>1</td>\n",
              "      <td>141</td>\n",
              "      <td>3.4</td>\n",
              "      <td>1</td>\n",
              "      <td>0</td>\n",
              "      <td>1</td>\n",
              "      <td>1</td>\n",
              "      <td>0</td>\n",
              "      <td>0</td>\n",
              "      <td>0</td>\n",
              "      <td>0</td>\n",
              "      <td>1</td>\n",
              "      <td>0</td>\n",
              "      <td>1</td>\n",
              "      <td>0</td>\n",
              "      <td>0</td>\n",
              "      <td>1</td>\n",
              "      <td>0</td>\n",
              "    </tr>\n",
              "    <tr>\n",
              "      <th>915</th>\n",
              "      <td>57</td>\n",
              "      <td>130</td>\n",
              "      <td>131</td>\n",
              "      <td>0</td>\n",
              "      <td>115</td>\n",
              "      <td>1.2</td>\n",
              "      <td>1</td>\n",
              "      <td>0</td>\n",
              "      <td>1</td>\n",
              "      <td>1</td>\n",
              "      <td>0</td>\n",
              "      <td>0</td>\n",
              "      <td>0</td>\n",
              "      <td>0</td>\n",
              "      <td>1</td>\n",
              "      <td>0</td>\n",
              "      <td>0</td>\n",
              "      <td>1</td>\n",
              "      <td>0</td>\n",
              "      <td>1</td>\n",
              "      <td>0</td>\n",
              "    </tr>\n",
              "    <tr>\n",
              "      <th>916</th>\n",
              "      <td>57</td>\n",
              "      <td>130</td>\n",
              "      <td>236</td>\n",
              "      <td>0</td>\n",
              "      <td>174</td>\n",
              "      <td>0.0</td>\n",
              "      <td>1</td>\n",
              "      <td>1</td>\n",
              "      <td>0</td>\n",
              "      <td>0</td>\n",
              "      <td>1</td>\n",
              "      <td>0</td>\n",
              "      <td>0</td>\n",
              "      <td>1</td>\n",
              "      <td>0</td>\n",
              "      <td>0</td>\n",
              "      <td>1</td>\n",
              "      <td>0</td>\n",
              "      <td>0</td>\n",
              "      <td>1</td>\n",
              "      <td>0</td>\n",
              "    </tr>\n",
              "    <tr>\n",
              "      <th>917</th>\n",
              "      <td>38</td>\n",
              "      <td>138</td>\n",
              "      <td>175</td>\n",
              "      <td>0</td>\n",
              "      <td>173</td>\n",
              "      <td>0.0</td>\n",
              "      <td>0</td>\n",
              "      <td>0</td>\n",
              "      <td>1</td>\n",
              "      <td>0</td>\n",
              "      <td>0</td>\n",
              "      <td>1</td>\n",
              "      <td>0</td>\n",
              "      <td>0</td>\n",
              "      <td>1</td>\n",
              "      <td>0</td>\n",
              "      <td>1</td>\n",
              "      <td>0</td>\n",
              "      <td>0</td>\n",
              "      <td>0</td>\n",
              "      <td>1</td>\n",
              "    </tr>\n",
              "  </tbody>\n",
              "</table>\n",
              "<p>918 rows × 21 columns</p>\n",
              "</div>"
            ],
            "text/plain": [
              "     Age  RestingBP  Cholesterol  ...  ST_Slope_Down  ST_Slope_Flat  ST_Slope_Up\n",
              "0     40        140          289  ...              0              0            1\n",
              "1     49        160          180  ...              0              1            0\n",
              "2     37        130          283  ...              0              0            1\n",
              "3     48        138          214  ...              0              1            0\n",
              "4     54        150          195  ...              0              0            1\n",
              "..   ...        ...          ...  ...            ...            ...          ...\n",
              "913   45        110          264  ...              0              1            0\n",
              "914   68        144          193  ...              0              1            0\n",
              "915   57        130          131  ...              0              1            0\n",
              "916   57        130          236  ...              0              1            0\n",
              "917   38        138          175  ...              0              0            1\n",
              "\n",
              "[918 rows x 21 columns]"
            ]
          },
          "metadata": {},
          "execution_count": 25
        }
      ]
    },
    {
      "cell_type": "code",
      "metadata": {
        "execution": {
          "iopub.status.busy": "2021-10-10T07:38:42.958915Z",
          "iopub.execute_input": "2021-10-10T07:38:42.959609Z",
          "iopub.status.idle": "2021-10-10T07:38:43.554240Z",
          "shell.execute_reply.started": "2021-10-10T07:38:42.959575Z",
          "shell.execute_reply": "2021-10-10T07:38:43.553329Z"
        },
        "trusted": true,
        "id": "M9oBHqYrLwGQ",
        "outputId": "bf231a24-628f-4979-c6a5-f1f2e4459e7f",
        "colab": {
          "base_uri": "https://localhost:8080/",
          "height": 341
        }
      },
      "source": [
        "\n",
        "import matplotlib.pyplot as plt\n",
        "plt.figure(figsize = (16,5))\n",
        "l=df.corr()\n",
        "sns.heatmap(l,cmap=\"YlGnBu\", annot=True)"
      ],
      "execution_count": 26,
      "outputs": [
        {
          "output_type": "execute_result",
          "data": {
            "text/plain": [
              "<matplotlib.axes._subplots.AxesSubplot at 0x7efe5708d990>"
            ]
          },
          "metadata": {},
          "execution_count": 26
        },
        {
          "output_type": "display_data",
          "data": {
            "image/png": "[encoded data removed]",
            "text/plain": [
              "<Figure size 1152x360 with 2 Axes>"
            ]
          },
          "metadata": {
            "needs_background": "light"
          }
        }
      ]
    },
    {
      "cell_type": "code",
      "metadata": {
        "execution": {
          "iopub.status.busy": "2021-10-10T07:38:43.555451Z",
          "iopub.execute_input": "2021-10-10T07:38:43.555690Z",
          "iopub.status.idle": "2021-10-10T07:38:46.569444Z",
          "shell.execute_reply.started": "2021-10-10T07:38:43.555664Z",
          "shell.execute_reply": "2021-10-10T07:38:46.568619Z"
        },
        "trusted": true,
        "id": "eg3IA7hZLwGS",
        "outputId": "8b2facce-faa3-41c5-8478-00ef2b0ecb2f",
        "colab": {
          "base_uri": "https://localhost:8080/",
          "height": 430
        }
      },
      "source": [
        "\n",
        "plt.figure(figsize = (16,5))\n",
        "l=df1.corr()\n",
        "sns.heatmap(l,cmap=\"YlGnBu\", annot=True)"
      ],
      "execution_count": 27,
      "outputs": [
        {
          "output_type": "execute_result",
          "data": {
            "text/plain": [
              "<matplotlib.axes._subplots.AxesSubplot at 0x7efe4ea085d0>"
            ]
          },
          "metadata": {},
          "execution_count": 27
        },
        {
          "output_type": "display_data",
          "data": {
            "image/png": "[encoded data removed]",
            "text/plain": [
              "<Figure size 1152x360 with 2 Axes>"
            ]
          },
          "metadata": {
            "needs_background": "light"
          }
        }
      ]
    },
    {
      "cell_type": "markdown",
      "metadata": {
        "id": "c6gnFEFHLwGU"
      },
      "source": [
        "**Here we have the important observation the correlation of all independent variables with respect to heart disease is better shown after encoding than before**"
      ]
    },
    {
      "cell_type": "markdown",
      "metadata": {
        "id": "WJ_sk-7hLwGW"
      },
      "source": [
        "**We can say that every independent variable has some effect on dependent variable**"
      ]
    },
    {
      "cell_type": "markdown",
      "metadata": {
        "id": "RPLYB1aWLwGW"
      },
      "source": [
        "Feature Scaling"
      ]
    },
    {
      "cell_type": "code",
      "metadata": {
        "execution": {
          "iopub.status.busy": "2021-10-10T07:38:46.570969Z",
          "iopub.execute_input": "2021-10-10T07:38:46.571387Z",
          "iopub.status.idle": "2021-10-10T07:38:46.587110Z",
          "shell.execute_reply.started": "2021-10-10T07:38:46.571351Z",
          "shell.execute_reply": "2021-10-10T07:38:46.586351Z"
        },
        "trusted": true,
        "id": "isjiyaCLLwGX",
        "outputId": "a7cef6cc-5e83-4fac-e4fa-fc63e9c132b8",
        "colab": {
          "base_uri": "https://localhost:8080/"
        }
      },
      "source": [
        "from sklearn.preprocessing import StandardScaler\n",
        "scaler=StandardScaler()\n",
        "y=df1['HeartDisease']\n",
        "df2=df1.drop('HeartDisease',axis=1)\n",
        "col=df2.columns\n",
        "df2=scaler.fit_transform(df2)\n",
        "df2"
      ],
      "execution_count": 28,
      "outputs": [
        {
          "output_type": "execute_result",
          "data": {
            "text/plain": [
              "array([[-1.4331398 ,  0.41090889,  0.82507026, ..., -0.27144836,\n",
              "        -1.00218103,  1.15067399],\n",
              "       [-0.47848359,  1.49175234, -0.17196105, ..., -0.27144836,\n",
              "         0.99782372, -0.86905588],\n",
              "       [-1.75135854, -0.12951283,  0.7701878 , ..., -0.27144836,\n",
              "        -1.00218103,  1.15067399],\n",
              "       ...,\n",
              "       [ 0.37009972, -0.12951283, -0.62016778, ..., -0.27144836,\n",
              "         0.99782372, -0.86905588],\n",
              "       [ 0.37009972, -0.12951283,  0.34027522, ..., -0.27144836,\n",
              "         0.99782372, -0.86905588],\n",
              "       [-1.64528563,  0.30282455, -0.21769643, ..., -0.27144836,\n",
              "        -1.00218103,  1.15067399]])"
            ]
          },
          "metadata": {},
          "execution_count": 28
        }
      ]
    },
    {
      "cell_type": "code",
      "metadata": {
        "execution": {
          "iopub.status.busy": "2021-10-10T07:38:46.588454Z",
          "iopub.execute_input": "2021-10-10T07:38:46.588901Z",
          "iopub.status.idle": "2021-10-10T07:38:46.627924Z",
          "shell.execute_reply.started": "2021-10-10T07:38:46.588865Z",
          "shell.execute_reply": "2021-10-10T07:38:46.626871Z"
        },
        "trusted": true,
        "id": "LyiZ-FefLwGa",
        "outputId": "0c51393f-6dfe-466b-d73a-b10bdb02e1a0",
        "colab": {
          "base_uri": "https://localhost:8080/",
          "height": 437
        }
      },
      "source": [
        "df2=pd.DataFrame(df2,columns=col)\n",
        "df2"
      ],
      "execution_count": 29,
      "outputs": [
        {
          "output_type": "execute_result",
          "data": {
            "text/html": [
              "<div>\n",
              "<style scoped>\n",
              "    .dataframe tbody tr th:only-of-type {\n",
              "        vertical-align: middle;\n",
              "    }\n",
              "\n",
              "    .dataframe tbody tr th {\n",
              "        vertical-align: top;\n",
              "    }\n",
              "\n",
              "    .dataframe thead th {\n",
              "        text-align: right;\n",
              "    }\n",
              "</style>\n",
              "<table border=\"1\" class=\"dataframe\">\n",
              "  <thead>\n",
              "    <tr style=\"text-align: right;\">\n",
              "      <th></th>\n",
              "      <th>Age</th>\n",
              "      <th>RestingBP</th>\n",
              "      <th>Cholesterol</th>\n",
              "      <th>FastingBS</th>\n",
              "      <th>MaxHR</th>\n",
              "      <th>Oldpeak</th>\n",
              "      <th>Sex_F</th>\n",
              "      <th>Sex_M</th>\n",
              "      <th>ChestPainType_ASY</th>\n",
              "      <th>ChestPainType_ATA</th>\n",
              "      <th>ChestPainType_NAP</th>\n",
              "      <th>ChestPainType_TA</th>\n",
              "      <th>RestingECG_LVH</th>\n",
              "      <th>RestingECG_Normal</th>\n",
              "      <th>RestingECG_ST</th>\n",
              "      <th>ExerciseAngina_N</th>\n",
              "      <th>ExerciseAngina_Y</th>\n",
              "      <th>ST_Slope_Down</th>\n",
              "      <th>ST_Slope_Flat</th>\n",
              "      <th>ST_Slope_Up</th>\n",
              "    </tr>\n",
              "  </thead>\n",
              "  <tbody>\n",
              "    <tr>\n",
              "      <th>0</th>\n",
              "      <td>-1.433140</td>\n",
              "      <td>0.410909</td>\n",
              "      <td>0.825070</td>\n",
              "      <td>-0.551341</td>\n",
              "      <td>1.382928</td>\n",
              "      <td>-0.832432</td>\n",
              "      <td>-0.515952</td>\n",
              "      <td>0.515952</td>\n",
              "      <td>-1.084138</td>\n",
              "      <td>2.075177</td>\n",
              "      <td>-0.532838</td>\n",
              "      <td>-0.229679</td>\n",
              "      <td>-0.507478</td>\n",
              "      <td>0.814275</td>\n",
              "      <td>-0.490449</td>\n",
              "      <td>0.823556</td>\n",
              "      <td>-0.823556</td>\n",
              "      <td>-0.271448</td>\n",
              "      <td>-1.002181</td>\n",
              "      <td>1.150674</td>\n",
              "    </tr>\n",
              "    <tr>\n",
              "      <th>1</th>\n",
              "      <td>-0.478484</td>\n",
              "      <td>1.491752</td>\n",
              "      <td>-0.171961</td>\n",
              "      <td>-0.551341</td>\n",
              "      <td>0.754157</td>\n",
              "      <td>0.105664</td>\n",
              "      <td>1.938163</td>\n",
              "      <td>-1.938163</td>\n",
              "      <td>-1.084138</td>\n",
              "      <td>-0.481887</td>\n",
              "      <td>1.876744</td>\n",
              "      <td>-0.229679</td>\n",
              "      <td>-0.507478</td>\n",
              "      <td>0.814275</td>\n",
              "      <td>-0.490449</td>\n",
              "      <td>0.823556</td>\n",
              "      <td>-0.823556</td>\n",
              "      <td>-0.271448</td>\n",
              "      <td>0.997824</td>\n",
              "      <td>-0.869056</td>\n",
              "    </tr>\n",
              "    <tr>\n",
              "      <th>2</th>\n",
              "      <td>-1.751359</td>\n",
              "      <td>-0.129513</td>\n",
              "      <td>0.770188</td>\n",
              "      <td>-0.551341</td>\n",
              "      <td>-1.525138</td>\n",
              "      <td>-0.832432</td>\n",
              "      <td>-0.515952</td>\n",
              "      <td>0.515952</td>\n",
              "      <td>-1.084138</td>\n",
              "      <td>2.075177</td>\n",
              "      <td>-0.532838</td>\n",
              "      <td>-0.229679</td>\n",
              "      <td>-0.507478</td>\n",
              "      <td>-1.228087</td>\n",
              "      <td>2.038947</td>\n",
              "      <td>0.823556</td>\n",
              "      <td>-0.823556</td>\n",
              "      <td>-0.271448</td>\n",
              "      <td>-1.002181</td>\n",
              "      <td>1.150674</td>\n",
              "    </tr>\n",
              "    <tr>\n",
              "      <th>3</th>\n",
              "      <td>-0.584556</td>\n",
              "      <td>0.302825</td>\n",
              "      <td>0.139040</td>\n",
              "      <td>-0.551341</td>\n",
              "      <td>-1.132156</td>\n",
              "      <td>0.574711</td>\n",
              "      <td>1.938163</td>\n",
              "      <td>-1.938163</td>\n",
              "      <td>0.922392</td>\n",
              "      <td>-0.481887</td>\n",
              "      <td>-0.532838</td>\n",
              "      <td>-0.229679</td>\n",
              "      <td>-0.507478</td>\n",
              "      <td>0.814275</td>\n",
              "      <td>-0.490449</td>\n",
              "      <td>-1.214246</td>\n",
              "      <td>1.214246</td>\n",
              "      <td>-0.271448</td>\n",
              "      <td>0.997824</td>\n",
              "      <td>-0.869056</td>\n",
              "    </tr>\n",
              "    <tr>\n",
              "      <th>4</th>\n",
              "      <td>0.051881</td>\n",
              "      <td>0.951331</td>\n",
              "      <td>-0.034755</td>\n",
              "      <td>-0.551341</td>\n",
              "      <td>-0.581981</td>\n",
              "      <td>-0.832432</td>\n",
              "      <td>-0.515952</td>\n",
              "      <td>0.515952</td>\n",
              "      <td>-1.084138</td>\n",
              "      <td>-0.481887</td>\n",
              "      <td>1.876744</td>\n",
              "      <td>-0.229679</td>\n",
              "      <td>-0.507478</td>\n",
              "      <td>0.814275</td>\n",
              "      <td>-0.490449</td>\n",
              "      <td>0.823556</td>\n",
              "      <td>-0.823556</td>\n",
              "      <td>-0.271448</td>\n",
              "      <td>-1.002181</td>\n",
              "      <td>1.150674</td>\n",
              "    </tr>\n",
              "    <tr>\n",
              "      <th>...</th>\n",
              "      <td>...</td>\n",
              "      <td>...</td>\n",
              "      <td>...</td>\n",
              "      <td>...</td>\n",
              "      <td>...</td>\n",
              "      <td>...</td>\n",
              "      <td>...</td>\n",
              "      <td>...</td>\n",
              "      <td>...</td>\n",
              "      <td>...</td>\n",
              "      <td>...</td>\n",
              "      <td>...</td>\n",
              "      <td>...</td>\n",
              "      <td>...</td>\n",
              "      <td>...</td>\n",
              "      <td>...</td>\n",
              "      <td>...</td>\n",
              "      <td>...</td>\n",
              "      <td>...</td>\n",
              "      <td>...</td>\n",
              "    </tr>\n",
              "    <tr>\n",
              "      <th>913</th>\n",
              "      <td>-0.902775</td>\n",
              "      <td>-1.210356</td>\n",
              "      <td>0.596393</td>\n",
              "      <td>-0.551341</td>\n",
              "      <td>-0.188999</td>\n",
              "      <td>0.293283</td>\n",
              "      <td>-0.515952</td>\n",
              "      <td>0.515952</td>\n",
              "      <td>-1.084138</td>\n",
              "      <td>-0.481887</td>\n",
              "      <td>-0.532838</td>\n",
              "      <td>4.353909</td>\n",
              "      <td>-0.507478</td>\n",
              "      <td>0.814275</td>\n",
              "      <td>-0.490449</td>\n",
              "      <td>0.823556</td>\n",
              "      <td>-0.823556</td>\n",
              "      <td>-0.271448</td>\n",
              "      <td>0.997824</td>\n",
              "      <td>-0.869056</td>\n",
              "    </tr>\n",
              "    <tr>\n",
              "      <th>914</th>\n",
              "      <td>1.536902</td>\n",
              "      <td>0.627078</td>\n",
              "      <td>-0.053049</td>\n",
              "      <td>1.813758</td>\n",
              "      <td>0.164684</td>\n",
              "      <td>2.357094</td>\n",
              "      <td>-0.515952</td>\n",
              "      <td>0.515952</td>\n",
              "      <td>0.922392</td>\n",
              "      <td>-0.481887</td>\n",
              "      <td>-0.532838</td>\n",
              "      <td>-0.229679</td>\n",
              "      <td>-0.507478</td>\n",
              "      <td>0.814275</td>\n",
              "      <td>-0.490449</td>\n",
              "      <td>0.823556</td>\n",
              "      <td>-0.823556</td>\n",
              "      <td>-0.271448</td>\n",
              "      <td>0.997824</td>\n",
              "      <td>-0.869056</td>\n",
              "    </tr>\n",
              "    <tr>\n",
              "      <th>915</th>\n",
              "      <td>0.370100</td>\n",
              "      <td>-0.129513</td>\n",
              "      <td>-0.620168</td>\n",
              "      <td>-0.551341</td>\n",
              "      <td>-0.857069</td>\n",
              "      <td>0.293283</td>\n",
              "      <td>-0.515952</td>\n",
              "      <td>0.515952</td>\n",
              "      <td>0.922392</td>\n",
              "      <td>-0.481887</td>\n",
              "      <td>-0.532838</td>\n",
              "      <td>-0.229679</td>\n",
              "      <td>-0.507478</td>\n",
              "      <td>0.814275</td>\n",
              "      <td>-0.490449</td>\n",
              "      <td>-1.214246</td>\n",
              "      <td>1.214246</td>\n",
              "      <td>-0.271448</td>\n",
              "      <td>0.997824</td>\n",
              "      <td>-0.869056</td>\n",
              "    </tr>\n",
              "    <tr>\n",
              "      <th>916</th>\n",
              "      <td>0.370100</td>\n",
              "      <td>-0.129513</td>\n",
              "      <td>0.340275</td>\n",
              "      <td>-0.551341</td>\n",
              "      <td>1.461525</td>\n",
              "      <td>-0.832432</td>\n",
              "      <td>1.938163</td>\n",
              "      <td>-1.938163</td>\n",
              "      <td>-1.084138</td>\n",
              "      <td>2.075177</td>\n",
              "      <td>-0.532838</td>\n",
              "      <td>-0.229679</td>\n",
              "      <td>1.970528</td>\n",
              "      <td>-1.228087</td>\n",
              "      <td>-0.490449</td>\n",
              "      <td>0.823556</td>\n",
              "      <td>-0.823556</td>\n",
              "      <td>-0.271448</td>\n",
              "      <td>0.997824</td>\n",
              "      <td>-0.869056</td>\n",
              "    </tr>\n",
              "    <tr>\n",
              "      <th>917</th>\n",
              "      <td>-1.645286</td>\n",
              "      <td>0.302825</td>\n",
              "      <td>-0.217696</td>\n",
              "      <td>-0.551341</td>\n",
              "      <td>1.422226</td>\n",
              "      <td>-0.832432</td>\n",
              "      <td>-0.515952</td>\n",
              "      <td>0.515952</td>\n",
              "      <td>-1.084138</td>\n",
              "      <td>-0.481887</td>\n",
              "      <td>1.876744</td>\n",
              "      <td>-0.229679</td>\n",
              "      <td>-0.507478</td>\n",
              "      <td>0.814275</td>\n",
              "      <td>-0.490449</td>\n",
              "      <td>0.823556</td>\n",
              "      <td>-0.823556</td>\n",
              "      <td>-0.271448</td>\n",
              "      <td>-1.002181</td>\n",
              "      <td>1.150674</td>\n",
              "    </tr>\n",
              "  </tbody>\n",
              "</table>\n",
              "<p>918 rows × 20 columns</p>\n",
              "</div>"
            ],
            "text/plain": [
              "          Age  RestingBP  ...  ST_Slope_Flat  ST_Slope_Up\n",
              "0   -1.433140   0.410909  ...      -1.002181     1.150674\n",
              "1   -0.478484   1.491752  ...       0.997824    -0.869056\n",
              "2   -1.751359  -0.129513  ...      -1.002181     1.150674\n",
              "3   -0.584556   0.302825  ...       0.997824    -0.869056\n",
              "4    0.051881   0.951331  ...      -1.002181     1.150674\n",
              "..        ...        ...  ...            ...          ...\n",
              "913 -0.902775  -1.210356  ...       0.997824    -0.869056\n",
              "914  1.536902   0.627078  ...       0.997824    -0.869056\n",
              "915  0.370100  -0.129513  ...       0.997824    -0.869056\n",
              "916  0.370100  -0.129513  ...       0.997824    -0.869056\n",
              "917 -1.645286   0.302825  ...      -1.002181     1.150674\n",
              "\n",
              "[918 rows x 20 columns]"
            ]
          },
          "metadata": {},
          "execution_count": 29
        }
      ]
    },
    {
      "cell_type": "markdown",
      "metadata": {
        "id": "sYCIM7qFLwGc"
      },
      "source": [
        "**Prediction part**"
      ]
    },
    {
      "cell_type": "markdown",
      "metadata": {
        "id": "gQK1V_flLwGd"
      },
      "source": [
        "Our problem is of type classification .So we will first get training and testing data and will work with various models."
      ]
    },
    {
      "cell_type": "code",
      "metadata": {
        "execution": {
          "iopub.status.busy": "2021-10-10T07:38:46.629353Z",
          "iopub.execute_input": "2021-10-10T07:38:46.629674Z",
          "iopub.status.idle": "2021-10-10T07:38:46.638284Z",
          "shell.execute_reply.started": "2021-10-10T07:38:46.629633Z",
          "shell.execute_reply": "2021-10-10T07:38:46.637289Z"
        },
        "trusted": true,
        "id": "DA9Q1MLjLwGe"
      },
      "source": [
        "from sklearn.model_selection import train_test_split\n",
        "X=df2\n",
        "\n",
        "x_train,x_test,y_train,y_test=train_test_split(X,y,test_size=0.25)"
      ],
      "execution_count": 30,
      "outputs": []
    },
    {
      "cell_type": "code",
      "metadata": {
        "execution": {
          "iopub.status.busy": "2021-10-10T07:38:46.639801Z",
          "iopub.execute_input": "2021-10-10T07:38:46.640559Z",
          "iopub.status.idle": "2021-10-10T07:38:46.675288Z",
          "shell.execute_reply.started": "2021-10-10T07:38:46.640527Z",
          "shell.execute_reply": "2021-10-10T07:38:46.674541Z"
        },
        "trusted": true,
        "id": "p1G6bI74LwGf",
        "outputId": "80efa05d-3dd0-482a-f022-f4c741d07af4",
        "colab": {
          "base_uri": "https://localhost:8080/",
          "height": 223
        }
      },
      "source": [
        "x_train.sample(5)"
      ],
      "execution_count": 31,
      "outputs": [
        {
          "output_type": "execute_result",
          "data": {
            "text/html": [
              "<div>\n",
              "<style scoped>\n",
              "    .dataframe tbody tr th:only-of-type {\n",
              "        vertical-align: middle;\n",
              "    }\n",
              "\n",
              "    .dataframe tbody tr th {\n",
              "        vertical-align: top;\n",
              "    }\n",
              "\n",
              "    .dataframe thead th {\n",
              "        text-align: right;\n",
              "    }\n",
              "</style>\n",
              "<table border=\"1\" class=\"dataframe\">\n",
              "  <thead>\n",
              "    <tr style=\"text-align: right;\">\n",
              "      <th></th>\n",
              "      <th>Age</th>\n",
              "      <th>RestingBP</th>\n",
              "      <th>Cholesterol</th>\n",
              "      <th>FastingBS</th>\n",
              "      <th>MaxHR</th>\n",
              "      <th>Oldpeak</th>\n",
              "      <th>Sex_F</th>\n",
              "      <th>Sex_M</th>\n",
              "      <th>ChestPainType_ASY</th>\n",
              "      <th>ChestPainType_ATA</th>\n",
              "      <th>ChestPainType_NAP</th>\n",
              "      <th>ChestPainType_TA</th>\n",
              "      <th>RestingECG_LVH</th>\n",
              "      <th>RestingECG_Normal</th>\n",
              "      <th>RestingECG_ST</th>\n",
              "      <th>ExerciseAngina_N</th>\n",
              "      <th>ExerciseAngina_Y</th>\n",
              "      <th>ST_Slope_Down</th>\n",
              "      <th>ST_Slope_Flat</th>\n",
              "      <th>ST_Slope_Up</th>\n",
              "    </tr>\n",
              "  </thead>\n",
              "  <tbody>\n",
              "    <tr>\n",
              "      <th>908</th>\n",
              "      <td>1.006537</td>\n",
              "      <td>0.410909</td>\n",
              "      <td>-0.107932</td>\n",
              "      <td>-0.551341</td>\n",
              "      <td>0.282579</td>\n",
              "      <td>2.919951</td>\n",
              "      <td>-0.515952</td>\n",
              "      <td>0.515952</td>\n",
              "      <td>0.922392</td>\n",
              "      <td>-0.481887</td>\n",
              "      <td>-0.532838</td>\n",
              "      <td>-0.229679</td>\n",
              "      <td>1.970528</td>\n",
              "      <td>-1.228087</td>\n",
              "      <td>-0.490449</td>\n",
              "      <td>-1.214246</td>\n",
              "      <td>1.214246</td>\n",
              "      <td>-0.271448</td>\n",
              "      <td>-1.002181</td>\n",
              "      <td>1.150674</td>\n",
              "    </tr>\n",
              "    <tr>\n",
              "      <th>92</th>\n",
              "      <td>-0.160265</td>\n",
              "      <td>-0.669935</td>\n",
              "      <td>0.102451</td>\n",
              "      <td>-0.551341</td>\n",
              "      <td>0.439772</td>\n",
              "      <td>-0.832432</td>\n",
              "      <td>1.938163</td>\n",
              "      <td>-1.938163</td>\n",
              "      <td>-1.084138</td>\n",
              "      <td>2.075177</td>\n",
              "      <td>-0.532838</td>\n",
              "      <td>-0.229679</td>\n",
              "      <td>-0.507478</td>\n",
              "      <td>0.814275</td>\n",
              "      <td>-0.490449</td>\n",
              "      <td>0.823556</td>\n",
              "      <td>-0.823556</td>\n",
              "      <td>-0.271448</td>\n",
              "      <td>-1.002181</td>\n",
              "      <td>1.150674</td>\n",
              "    </tr>\n",
              "    <tr>\n",
              "      <th>55</th>\n",
              "      <td>-0.266338</td>\n",
              "      <td>1.491752</td>\n",
              "      <td>-0.043902</td>\n",
              "      <td>-0.551341</td>\n",
              "      <td>1.304332</td>\n",
              "      <td>-0.832432</td>\n",
              "      <td>1.938163</td>\n",
              "      <td>-1.938163</td>\n",
              "      <td>-1.084138</td>\n",
              "      <td>2.075177</td>\n",
              "      <td>-0.532838</td>\n",
              "      <td>-0.229679</td>\n",
              "      <td>-0.507478</td>\n",
              "      <td>0.814275</td>\n",
              "      <td>-0.490449</td>\n",
              "      <td>0.823556</td>\n",
              "      <td>-0.823556</td>\n",
              "      <td>-0.271448</td>\n",
              "      <td>-1.002181</td>\n",
              "      <td>1.150674</td>\n",
              "    </tr>\n",
              "    <tr>\n",
              "      <th>838</th>\n",
              "      <td>1.006537</td>\n",
              "      <td>-0.129513</td>\n",
              "      <td>1.200100</td>\n",
              "      <td>1.813758</td>\n",
              "      <td>-0.188999</td>\n",
              "      <td>0.856140</td>\n",
              "      <td>-0.515952</td>\n",
              "      <td>0.515952</td>\n",
              "      <td>0.922392</td>\n",
              "      <td>-0.481887</td>\n",
              "      <td>-0.532838</td>\n",
              "      <td>-0.229679</td>\n",
              "      <td>1.970528</td>\n",
              "      <td>-1.228087</td>\n",
              "      <td>-0.490449</td>\n",
              "      <td>-1.214246</td>\n",
              "      <td>1.214246</td>\n",
              "      <td>-0.271448</td>\n",
              "      <td>-1.002181</td>\n",
              "      <td>1.150674</td>\n",
              "    </tr>\n",
              "    <tr>\n",
              "      <th>647</th>\n",
              "      <td>-1.751359</td>\n",
              "      <td>-0.669935</td>\n",
              "      <td>0.148187</td>\n",
              "      <td>-0.551341</td>\n",
              "      <td>1.304332</td>\n",
              "      <td>-0.832432</td>\n",
              "      <td>1.938163</td>\n",
              "      <td>-1.938163</td>\n",
              "      <td>-1.084138</td>\n",
              "      <td>-0.481887</td>\n",
              "      <td>1.876744</td>\n",
              "      <td>-0.229679</td>\n",
              "      <td>-0.507478</td>\n",
              "      <td>0.814275</td>\n",
              "      <td>-0.490449</td>\n",
              "      <td>0.823556</td>\n",
              "      <td>-0.823556</td>\n",
              "      <td>-0.271448</td>\n",
              "      <td>-1.002181</td>\n",
              "      <td>1.150674</td>\n",
              "    </tr>\n",
              "  </tbody>\n",
              "</table>\n",
              "</div>"
            ],
            "text/plain": [
              "          Age  RestingBP  ...  ST_Slope_Flat  ST_Slope_Up\n",
              "908  1.006537   0.410909  ...      -1.002181     1.150674\n",
              "92  -0.160265  -0.669935  ...      -1.002181     1.150674\n",
              "55  -0.266338   1.491752  ...      -1.002181     1.150674\n",
              "838  1.006537  -0.129513  ...      -1.002181     1.150674\n",
              "647 -1.751359  -0.669935  ...      -1.002181     1.150674\n",
              "\n",
              "[5 rows x 20 columns]"
            ]
          },
          "metadata": {},
          "execution_count": 31
        }
      ]
    },
    {
      "cell_type": "code",
      "metadata": {
        "execution": {
          "iopub.status.busy": "2021-10-10T07:38:46.676892Z",
          "iopub.execute_input": "2021-10-10T07:38:46.677426Z",
          "iopub.status.idle": "2021-10-10T07:38:46.688365Z",
          "shell.execute_reply.started": "2021-10-10T07:38:46.677385Z",
          "shell.execute_reply": "2021-10-10T07:38:46.687529Z"
        },
        "trusted": true,
        "id": "34S6SwCeLwGf",
        "outputId": "77aa2e90-c13d-4554-8af4-23da0ce4a651",
        "colab": {
          "base_uri": "https://localhost:8080/"
        }
      },
      "source": [
        "y_test.head()"
      ],
      "execution_count": 32,
      "outputs": [
        {
          "output_type": "execute_result",
          "data": {
            "text/plain": [
              "300    1\n",
              "862    0\n",
              "562    0\n",
              "634    0\n",
              "455    0\n",
              "Name: HeartDisease, dtype: int64"
            ]
          },
          "metadata": {},
          "execution_count": 32
        }
      ]
    },
    {
      "cell_type": "code",
      "metadata": {
        "execution": {
          "iopub.status.busy": "2021-10-10T07:38:46.690058Z",
          "iopub.execute_input": "2021-10-10T07:38:46.690334Z",
          "iopub.status.idle": "2021-10-10T07:38:46.700174Z",
          "shell.execute_reply.started": "2021-10-10T07:38:46.690301Z",
          "shell.execute_reply": "2021-10-10T07:38:46.699469Z"
        },
        "trusted": true,
        "id": "-fT4fP3YLwGh"
      },
      "source": [
        "from sklearn.metrics import accuracy_score\n",
        "from sklearn.metrics import f1_score,roc_auc_score,classification_report,confusion_matrix\n",
        "def metric(y_test,y_pred):\n",
        "    h={}\n",
        "    h['metrics']=classification_report(y_test,y_pred)\n",
        "    h['accuracy']=accuracy_score(y_test,y_pred)\n",
        "    h['confusion_matrix']=confusion_matrix(y_test,y_pred)\n",
        "    return h"
      ],
      "execution_count": 33,
      "outputs": []
    },
    {
      "cell_type": "markdown",
      "metadata": {
        "id": "HwU8aldgLwGj"
      },
      "source": [
        "**1st model decisiion tree**"
      ]
    },
    {
      "cell_type": "code",
      "metadata": {
        "execution": {
          "iopub.status.busy": "2021-10-10T07:38:46.701826Z",
          "iopub.execute_input": "2021-10-10T07:38:46.702109Z",
          "iopub.status.idle": "2021-10-10T07:38:46.720488Z",
          "shell.execute_reply.started": "2021-10-10T07:38:46.702073Z",
          "shell.execute_reply": "2021-10-10T07:38:46.719688Z"
        },
        "trusted": true,
        "id": "SOqRpL3mLwGl"
      },
      "source": [
        "from sklearn.tree import DecisionTreeClassifier \n",
        "model1=DecisionTreeClassifier()\n",
        "model1.fit(x_train,y_train)\n",
        "y1_pred=model1.predict(x_test)"
      ],
      "execution_count": 34,
      "outputs": []
    },
    {
      "cell_type": "code",
      "metadata": {
        "execution": {
          "iopub.status.busy": "2021-10-10T07:38:46.722144Z",
          "iopub.execute_input": "2021-10-10T07:38:46.722656Z",
          "iopub.status.idle": "2021-10-10T07:38:46.736398Z",
          "shell.execute_reply.started": "2021-10-10T07:38:46.722611Z",
          "shell.execute_reply": "2021-10-10T07:38:46.735520Z"
        },
        "trusted": true,
        "id": "BxYIarvVLwGo",
        "outputId": "25e58a81-c71e-436a-8f40-0d5ccacb5989",
        "colab": {
          "base_uri": "https://localhost:8080/"
        }
      },
      "source": [
        "l=metric(y_test,y1_pred)\n",
        "for i in l:\n",
        "    print(l[i])"
      ],
      "execution_count": 35,
      "outputs": [
        {
          "output_type": "stream",
          "name": "stdout",
          "text": [
            "              precision    recall  f1-score   support\n",
            "\n",
            "           0       0.79      0.75      0.77       121\n",
            "           1       0.74      0.78      0.76       109\n",
            "\n",
            "    accuracy                           0.77       230\n",
            "   macro avg       0.77      0.77      0.77       230\n",
            "weighted avg       0.77      0.77      0.77       230\n",
            "\n",
            "0.7652173913043478\n",
            "[[91 30]\n",
            " [24 85]]\n"
          ]
        }
      ]
    },
    {
      "cell_type": "markdown",
      "metadata": {
        "id": "K41Q6fGTLwHh"
      },
      "source": [
        "**knn**"
      ]
    },
    {
      "cell_type": "code",
      "metadata": {
        "execution": {
          "iopub.status.busy": "2021-10-10T07:38:46.741034Z",
          "iopub.execute_input": "2021-10-10T07:38:46.741319Z",
          "iopub.status.idle": "2021-10-10T07:38:46.776113Z",
          "shell.execute_reply.started": "2021-10-10T07:38:46.741284Z",
          "shell.execute_reply": "2021-10-10T07:38:46.775488Z"
        },
        "trusted": true,
        "id": "bTN0FgW3LwHk"
      },
      "source": [
        "from sklearn.neighbors import KNeighborsClassifier\n",
        "model2=KNeighborsClassifier()\n",
        "model2.fit(x_train,y_train)\n",
        "y2_pred=model2.predict(x_test)"
      ],
      "execution_count": 36,
      "outputs": []
    },
    {
      "cell_type": "code",
      "metadata": {
        "execution": {
          "iopub.status.busy": "2021-10-10T07:38:46.777231Z",
          "iopub.execute_input": "2021-10-10T07:38:46.778124Z",
          "iopub.status.idle": "2021-10-10T07:38:46.790097Z",
          "shell.execute_reply.started": "2021-10-10T07:38:46.778082Z",
          "shell.execute_reply": "2021-10-10T07:38:46.789256Z"
        },
        "trusted": true,
        "id": "DVVBxjFjLwHr",
        "outputId": "09672745-bb1c-4675-ab5f-9490ddd29153",
        "colab": {
          "base_uri": "https://localhost:8080/"
        }
      },
      "source": [
        "l=metric(y_test,y2_pred)\n",
        "for i in l:\n",
        "    print(l[i])"
      ],
      "execution_count": 37,
      "outputs": [
        {
          "output_type": "stream",
          "name": "stdout",
          "text": [
            "              precision    recall  f1-score   support\n",
            "\n",
            "           0       0.89      0.77      0.83       121\n",
            "           1       0.78      0.90      0.83       109\n",
            "\n",
            "    accuracy                           0.83       230\n",
            "   macro avg       0.84      0.83      0.83       230\n",
            "weighted avg       0.84      0.83      0.83       230\n",
            "\n",
            "0.8304347826086956\n",
            "[[93 28]\n",
            " [11 98]]\n"
          ]
        }
      ]
    },
    {
      "cell_type": "markdown",
      "metadata": {
        "id": "SNTyANUwLwHv"
      },
      "source": [
        "**lOGISTIC**"
      ]
    },
    {
      "cell_type": "code",
      "metadata": {
        "execution": {
          "iopub.status.busy": "2021-10-10T07:38:46.791336Z",
          "iopub.execute_input": "2021-10-10T07:38:46.791876Z",
          "iopub.status.idle": "2021-10-10T07:38:46.831914Z",
          "shell.execute_reply.started": "2021-10-10T07:38:46.791833Z",
          "shell.execute_reply": "2021-10-10T07:38:46.830890Z"
        },
        "trusted": true,
        "id": "Eb_31J8aLwH9"
      },
      "source": [
        "from sklearn.linear_model import LogisticRegression\n",
        "model3=LogisticRegression()\n",
        "model3.fit(x_train,y_train)\n",
        "y3_pred=model3.predict(x_test)"
      ],
      "execution_count": 38,
      "outputs": []
    },
    {
      "cell_type": "code",
      "metadata": {
        "execution": {
          "iopub.status.busy": "2021-10-10T07:38:46.833627Z",
          "iopub.execute_input": "2021-10-10T07:38:46.833959Z",
          "iopub.status.idle": "2021-10-10T07:38:46.850618Z",
          "shell.execute_reply.started": "2021-10-10T07:38:46.833920Z",
          "shell.execute_reply": "2021-10-10T07:38:46.849729Z"
        },
        "trusted": true,
        "id": "vnG41ObTLwIA",
        "outputId": "b0b5136a-3721-44e2-83ad-5a525c09eb2a",
        "colab": {
          "base_uri": "https://localhost:8080/"
        }
      },
      "source": [
        "l=metric(y_test,y3_pred)\n",
        "for i in l:\n",
        "    print(l[i])"
      ],
      "execution_count": 39,
      "outputs": [
        {
          "output_type": "stream",
          "name": "stdout",
          "text": [
            "              precision    recall  f1-score   support\n",
            "\n",
            "           0       0.89      0.78      0.83       121\n",
            "           1       0.78      0.89      0.83       109\n",
            "\n",
            "    accuracy                           0.83       230\n",
            "   macro avg       0.83      0.83      0.83       230\n",
            "weighted avg       0.84      0.83      0.83       230\n",
            "\n",
            "0.8304347826086956\n",
            "[[94 27]\n",
            " [12 97]]\n"
          ]
        }
      ]
    },
    {
      "cell_type": "markdown",
      "metadata": {
        "id": "2a_nzt8DLwIC"
      },
      "source": [
        "**Random Forest**"
      ]
    },
    {
      "cell_type": "code",
      "metadata": {
        "execution": {
          "iopub.status.busy": "2021-10-10T07:38:46.852208Z",
          "iopub.execute_input": "2021-10-10T07:38:46.852754Z",
          "iopub.status.idle": "2021-10-10T07:38:47.165834Z",
          "shell.execute_reply.started": "2021-10-10T07:38:46.852710Z",
          "shell.execute_reply": "2021-10-10T07:38:47.164983Z"
        },
        "trusted": true,
        "id": "U0hxrst0LwIF"
      },
      "source": [
        "from sklearn.ensemble import RandomForestClassifier\n",
        "model4=RandomForestClassifier()\n",
        "model4.fit(x_train,y_train)\n",
        "y4_pred=model4.predict(x_test)"
      ],
      "execution_count": 40,
      "outputs": []
    },
    {
      "cell_type": "code",
      "metadata": {
        "execution": {
          "iopub.status.busy": "2021-10-10T07:38:47.166916Z",
          "iopub.execute_input": "2021-10-10T07:38:47.167140Z",
          "iopub.status.idle": "2021-10-10T07:38:47.178944Z",
          "shell.execute_reply.started": "2021-10-10T07:38:47.167115Z",
          "shell.execute_reply": "2021-10-10T07:38:47.178190Z"
        },
        "trusted": true,
        "id": "vHQtE906LwIK",
        "outputId": "ced930ee-aeb7-4920-ffff-2b9728313bbb",
        "colab": {
          "base_uri": "https://localhost:8080/"
        }
      },
      "source": [
        "l=metric(y_test,y4_pred)\n",
        "for i in l:\n",
        "    print(l[i])"
      ],
      "execution_count": 41,
      "outputs": [
        {
          "output_type": "stream",
          "name": "stdout",
          "text": [
            "              precision    recall  f1-score   support\n",
            "\n",
            "           0       0.91      0.80      0.85       121\n",
            "           1       0.80      0.91      0.85       109\n",
            "\n",
            "    accuracy                           0.85       230\n",
            "   macro avg       0.86      0.85      0.85       230\n",
            "weighted avg       0.86      0.85      0.85       230\n",
            "\n",
            "0.8521739130434782\n",
            "[[97 24]\n",
            " [10 99]]\n"
          ]
        }
      ]
    },
    {
      "cell_type": "markdown",
      "metadata": {
        "id": "tTvllTGMLwIM"
      },
      "source": [
        "**Based on verification of all the models the data is best fit for knn,logistic with a good accuracy around 86%**"
      ]
    },
    {
      "cell_type": "markdown",
      "metadata": {
        "id": "8H0j1_21LwIP"
      },
      "source": [
        ""
      ]
    }
  ]
}